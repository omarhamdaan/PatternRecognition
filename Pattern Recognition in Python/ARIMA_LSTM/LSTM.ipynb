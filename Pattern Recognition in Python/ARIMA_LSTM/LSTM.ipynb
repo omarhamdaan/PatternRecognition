{
 "cells": [
  {
   "cell_type": "code",
   "execution_count": 77,
   "id": "192971b3",
   "metadata": {},
   "outputs": [],
   "source": [
    "import pandas as pd\n",
    "import numpy as np\n",
    "import matplotlib.pyplot as plt \n",
    "import math\n",
    "from sklearn.metrics import mean_squared_error\n",
    "import warnings\n",
    "warnings.filterwarnings(\"ignore\")\n",
    "from keras.models import Sequential\n",
    "from keras.layers import Dense\n",
    "from keras.layers import LSTM, Flatten\n",
    "from sklearn.preprocessing import MinMaxScaler\n",
    "from sklearn.metrics import mean_squared_error\n",
    "#from keras.callbacks import EarlyStopping\n",
    "from keras.layers import ConvLSTM2D"
   ]
  },
  {
   "cell_type": "code",
   "execution_count": 97,
   "id": "287e2a62",
   "metadata": {},
   "outputs": [
    {
     "data": {
      "text/html": [
       "<div>\n",
       "<style scoped>\n",
       "    .dataframe tbody tr th:only-of-type {\n",
       "        vertical-align: middle;\n",
       "    }\n",
       "\n",
       "    .dataframe tbody tr th {\n",
       "        vertical-align: top;\n",
       "    }\n",
       "\n",
       "    .dataframe thead th {\n",
       "        text-align: right;\n",
       "    }\n",
       "</style>\n",
       "<table border=\"1\" class=\"dataframe\">\n",
       "  <thead>\n",
       "    <tr style=\"text-align: right;\">\n",
       "      <th></th>\n",
       "      <th>Month</th>\n",
       "      <th>#Passengers</th>\n",
       "    </tr>\n",
       "  </thead>\n",
       "  <tbody>\n",
       "    <tr>\n",
       "      <th>0</th>\n",
       "      <td>1949-01</td>\n",
       "      <td>112</td>\n",
       "    </tr>\n",
       "    <tr>\n",
       "      <th>1</th>\n",
       "      <td>1949-02</td>\n",
       "      <td>118</td>\n",
       "    </tr>\n",
       "    <tr>\n",
       "      <th>2</th>\n",
       "      <td>1949-03</td>\n",
       "      <td>132</td>\n",
       "    </tr>\n",
       "    <tr>\n",
       "      <th>3</th>\n",
       "      <td>1949-04</td>\n",
       "      <td>129</td>\n",
       "    </tr>\n",
       "    <tr>\n",
       "      <th>4</th>\n",
       "      <td>1949-05</td>\n",
       "      <td>121</td>\n",
       "    </tr>\n",
       "  </tbody>\n",
       "</table>\n",
       "</div>"
      ],
      "text/plain": [
       "     Month  #Passengers\n",
       "0  1949-01          112\n",
       "1  1949-02          118\n",
       "2  1949-03          132\n",
       "3  1949-04          129\n",
       "4  1949-05          121"
      ]
     },
     "execution_count": 97,
     "metadata": {},
     "output_type": "execute_result"
    }
   ],
   "source": [
    "df=pd.read_csv(\"AirPassengers.csv\")\n",
    " \n",
    "df.head()"
   ]
  },
  {
   "cell_type": "code",
   "execution_count": 98,
   "id": "65bb514d",
   "metadata": {},
   "outputs": [],
   "source": [
    "df.dropna(inplace=True)\n",
    "df.set_index('Month',inplace=True)\n",
    "df.index=pd.to_datetime(df.index)"
   ]
  },
  {
   "cell_type": "code",
   "execution_count": 99,
   "id": "08d34395",
   "metadata": {},
   "outputs": [
    {
     "data": {
      "text/plain": [
       "<AxesSubplot:xlabel='Month'>"
      ]
     },
     "execution_count": 99,
     "metadata": {},
     "output_type": "execute_result"
    },
    {
     "data": {
      "image/png": "[encoded data removed]",
      "text/plain": [
       "<Figure size 432x288 with 1 Axes>"
      ]
     },
     "metadata": {
      "needs_background": "light"
     },
     "output_type": "display_data"
    }
   ],
   "source": [
    "df.plot()"
   ]
  },
  {
   "cell_type": "code",
   "execution_count": 100,
   "id": "3aad3e8b",
   "metadata": {},
   "outputs": [],
   "source": [
    "#Convert pandas dataframe to numpy array\n",
    "data = df.values.astype('float32') "
   ]
  },
  {
   "cell_type": "code",
   "execution_count": 101,
   "id": "9ae44c13",
   "metadata": {},
   "outputs": [],
   "source": [
    "# Data normalization\n",
    "scaler = MinMaxScaler(feature_range=(0, 1))\n",
    "data = scaler.fit_transform(data)"
   ]
  },
  {
   "cell_type": "code",
   "execution_count": 102,
   "id": "89f2fcc1",
   "metadata": {},
   "outputs": [],
   "source": [
    "#Split data as in ARIMA\n",
    "#Split data into train and test\n",
    "# Note not as in traditional ML, we cannt pick randomly\n",
    "size = int(len(data) * 0.75)\n",
    "train, test = data[0:size], data[size:len(data)]"
   ]
  },
  {
   "cell_type": "code",
   "execution_count": 103,
   "id": "bebd5a65",
   "metadata": {},
   "outputs": [],
   "source": [
    "## Most important step\n",
    "# prepare time series data for LSTM? (Data windowing)\n",
    "# convert an array of values into a dataset matrix\n",
    "def create_dataset(dataset, look_back=1):\n",
    "        dataX, dataY = [], []\n",
    "        for i in range(len(dataset)-look_back-1):\n",
    "            a = dataset[i:(i+look_back), 0]\n",
    "            dataX.append(a)\n",
    "            dataY.append(dataset[i + look_back, 0])\n",
    "        return np.array(dataX), np.array(dataY)"
   ]
  },
  {
   "cell_type": "code",
   "execution_count": 104,
   "id": "191691b3",
   "metadata": {},
   "outputs": [],
   "source": [
    "# reshape into X=t and Y=t+1\n",
    "look_back = 7  # Number of time steps to look back \n",
    "\n",
    "trainX, trainY = create_dataset(train, look_back)\n",
    "testX, testY = create_dataset(test, look_back)"
   ]
  },
  {
   "cell_type": "code",
   "execution_count": 112,
   "id": "e1f49930",
   "metadata": {},
   "outputs": [
    {
     "name": "stdout",
     "output_type": "stream",
     "text": [
      "Training X shape: (100, 7, 1)\n",
      "Training y shape: (100,)\n",
      "Test X shape: (28, 7, 1)\n",
      "Test y shape: (28,)\n"
     ]
    }
   ],
   "source": [
    "print(\"Training X shape: {}\".format(trainX.shape))\n",
    "print(\"Training y shape: {}\".format(trainY.shape))\n",
    "print(\"Test X shape: {}\".format(testX.shape))\n",
    "print(\"Test y shape: {}\".format(testY.shape))"
   ]
  },
  {
   "cell_type": "markdown",
   "id": "c4190949",
   "metadata": {},
   "source": [
    "Next is the shape of the input; that is what the model expects as input for each sample in terms of the number of time steps and the number of features.\n",
    "\n",
    "- We are working with a univariate series, so the number of `features` is one, for one variable.\n",
    "\n",
    "- The number of `time_steps` as input is the number we chose when preparing our dataset as an argument to the create_dataset() function `time_steps`=`look_back`\n",
    "\n",
    "The shape of the input for each sample is specified in the input_shape argument on the definition of first hidden layer.\n",
    "The LSTM network expects the input data (X) to be provided with a specific array structure in the form of: `[samples, time steps, features]`.\n",
    "\n",
    "Currently, our data is in the form: `[samples, time_steps]` and we are framing the problem as one time step for each sample. We can transform the prepared train and test input data into the expected structure using numpy.reshape() as follows:"
   ]
  },
  {
   "cell_type": "code",
   "execution_count": 113,
   "id": "eff231ed",
   "metadata": {},
   "outputs": [
    {
     "name": "stdout",
     "output_type": "stream",
     "text": [
      "Training set shape: (100, 7, 1)\n",
      "Test set shape: (28, 7, 1)\n"
     ]
    }
   ],
   "source": [
    "# Reshape input to be [samples, timesteps, features]\n",
    "trainX = np.reshape(trainX, (trainX.shape[0], trainX.shape[1], 1 )) # 1 is the number of features\n",
    "testX = np.reshape(testX, (testX.shape[0], testX.shape[1], 1 ))\n",
    "print(\"Training set shape: {}\".format(trainX.shape))\n",
    "print(\"Test set shape: {}\".format(testX.shape))\n"
   ]
  },
  {
   "cell_type": "markdown",
   "id": "83253f16",
   "metadata": {},
   "source": [
    "##### Single LSTM with hidden Dense-\n"
   ]
  },
  {
   "cell_type": "code",
   "execution_count": 114,
   "id": "e3ecb3d3",
   "metadata": {},
   "outputs": [
    {
     "name": "stdout",
     "output_type": "stream",
     "text": [
      "Model: \"sequential_8\"\n",
      "_________________________________________________________________\n",
      "Layer (type)                 Output Shape              Param #   \n",
      "=================================================================\n",
      "lstm_8 (LSTM)                (None, 10)                480       \n",
      "_________________________________________________________________\n",
      "dense_16 (Dense)             (None, 5)                 55        \n",
      "_________________________________________________________________\n",
      "dense_17 (Dense)             (None, 1)                 6         \n",
      "=================================================================\n",
      "Total params: 541\n",
      "Trainable params: 541\n",
      "Non-trainable params: 0\n",
      "_________________________________________________________________\n"
     ]
    }
   ],
   "source": [
    "# create the LSTM network\n",
    "model = Sequential()\n",
    "# input_shape=(n_steps, n_features))\n",
    "model.add(LSTM(10, input_shape=(7,1)))\n",
    "model.add(Dense(5))\n",
    "model.add(Dense(1))\n",
    "model.compile(loss='mean_squared_error', optimizer='adam')\n",
    "model.summary()\n",
    "\n"
   ]
  },
  {
   "cell_type": "code",
   "execution_count": 119,
   "id": "9ca4d904",
   "metadata": {},
   "outputs": [
    {
     "name": "stdout",
     "output_type": "stream",
     "text": [
      "Epoch 1/100\n",
      "100/100 - 1s - loss: 0.0069\n",
      "Epoch 2/100\n",
      "100/100 - 0s - loss: 0.0064\n",
      "Epoch 3/100\n",
      "100/100 - 0s - loss: 0.0069\n",
      "Epoch 4/100\n",
      "100/100 - 0s - loss: 0.0061\n",
      "Epoch 5/100\n",
      "100/100 - 0s - loss: 0.0062\n",
      "Epoch 6/100\n",
      "100/100 - 0s - loss: 0.0058\n",
      "Epoch 7/100\n",
      "100/100 - 0s - loss: 0.0055\n",
      "Epoch 8/100\n",
      "100/100 - 0s - loss: 0.0057\n",
      "Epoch 9/100\n",
      "100/100 - 0s - loss: 0.0062\n",
      "Epoch 10/100\n",
      "100/100 - 0s - loss: 0.0056\n",
      "Epoch 11/100\n",
      "100/100 - 0s - loss: 0.0054\n",
      "Epoch 12/100\n",
      "100/100 - 0s - loss: 0.0058\n",
      "Epoch 13/100\n",
      "100/100 - 0s - loss: 0.0051\n",
      "Epoch 14/100\n",
      "100/100 - 0s - loss: 0.0051\n",
      "Epoch 15/100\n",
      "100/100 - 0s - loss: 0.0050\n",
      "Epoch 16/100\n",
      "100/100 - 0s - loss: 0.0049\n",
      "Epoch 17/100\n",
      "100/100 - 0s - loss: 0.0046\n",
      "Epoch 18/100\n",
      "100/100 - 0s - loss: 0.0043\n",
      "Epoch 19/100\n",
      "100/100 - 0s - loss: 0.0042\n",
      "Epoch 20/100\n",
      "100/100 - 0s - loss: 0.0042\n",
      "Epoch 21/100\n",
      "100/100 - 0s - loss: 0.0040\n",
      "Epoch 22/100\n",
      "100/100 - 0s - loss: 0.0041\n",
      "Epoch 23/100\n",
      "100/100 - 0s - loss: 0.0035\n",
      "Epoch 24/100\n",
      "100/100 - 0s - loss: 0.0038\n",
      "Epoch 25/100\n",
      "100/100 - 0s - loss: 0.0040\n",
      "Epoch 26/100\n",
      "100/100 - 0s - loss: 0.0035\n",
      "Epoch 27/100\n",
      "100/100 - 0s - loss: 0.0035\n",
      "Epoch 28/100\n",
      "100/100 - 0s - loss: 0.0036\n",
      "Epoch 29/100\n",
      "100/100 - 0s - loss: 0.0032\n",
      "Epoch 30/100\n",
      "100/100 - 0s - loss: 0.0033\n",
      "Epoch 31/100\n",
      "100/100 - 0s - loss: 0.0030\n",
      "Epoch 32/100\n",
      "100/100 - 0s - loss: 0.0029\n",
      "Epoch 33/100\n",
      "100/100 - 0s - loss: 0.0028\n",
      "Epoch 34/100\n",
      "100/100 - 0s - loss: 0.0030\n",
      "Epoch 35/100\n",
      "100/100 - 0s - loss: 0.0027\n",
      "Epoch 36/100\n",
      "100/100 - 0s - loss: 0.0027\n",
      "Epoch 37/100\n",
      "100/100 - 0s - loss: 0.0026\n",
      "Epoch 38/100\n",
      "100/100 - 0s - loss: 0.0025\n",
      "Epoch 39/100\n",
      "100/100 - 0s - loss: 0.0024\n",
      "Epoch 40/100\n",
      "100/100 - 0s - loss: 0.0025\n",
      "Epoch 41/100\n",
      "100/100 - 0s - loss: 0.0026\n",
      "Epoch 42/100\n",
      "100/100 - 0s - loss: 0.0025\n",
      "Epoch 43/100\n",
      "100/100 - 0s - loss: 0.0024\n",
      "Epoch 44/100\n",
      "100/100 - 0s - loss: 0.0025\n",
      "Epoch 45/100\n",
      "100/100 - 0s - loss: 0.0025\n",
      "Epoch 46/100\n",
      "100/100 - 0s - loss: 0.0024\n",
      "Epoch 47/100\n",
      "100/100 - 0s - loss: 0.0023\n",
      "Epoch 48/100\n",
      "100/100 - 0s - loss: 0.0024\n",
      "Epoch 49/100\n",
      "100/100 - 0s - loss: 0.0024\n",
      "Epoch 50/100\n",
      "100/100 - 0s - loss: 0.0023\n",
      "Epoch 51/100\n",
      "100/100 - 0s - loss: 0.0023\n",
      "Epoch 52/100\n",
      "100/100 - 0s - loss: 0.0024\n",
      "Epoch 53/100\n",
      "100/100 - 0s - loss: 0.0023\n",
      "Epoch 54/100\n",
      "100/100 - 0s - loss: 0.0023\n",
      "Epoch 55/100\n",
      "100/100 - 0s - loss: 0.0023\n",
      "Epoch 56/100\n",
      "100/100 - 0s - loss: 0.0024\n",
      "Epoch 57/100\n",
      "100/100 - 0s - loss: 0.0022\n",
      "Epoch 58/100\n",
      "100/100 - 0s - loss: 0.0023\n",
      "Epoch 59/100\n",
      "100/100 - 0s - loss: 0.0022\n",
      "Epoch 60/100\n",
      "100/100 - 0s - loss: 0.0022\n",
      "Epoch 61/100\n",
      "100/100 - 0s - loss: 0.0022\n",
      "Epoch 62/100\n",
      "100/100 - 0s - loss: 0.0024\n",
      "Epoch 63/100\n",
      "100/100 - 0s - loss: 0.0023\n",
      "Epoch 64/100\n",
      "100/100 - 0s - loss: 0.0022\n",
      "Epoch 65/100\n",
      "100/100 - 0s - loss: 0.0021\n",
      "Epoch 66/100\n",
      "100/100 - 0s - loss: 0.0021\n",
      "Epoch 67/100\n",
      "100/100 - 0s - loss: 0.0021\n",
      "Epoch 68/100\n",
      "100/100 - 0s - loss: 0.0022\n",
      "Epoch 69/100\n",
      "100/100 - 0s - loss: 0.0023\n",
      "Epoch 70/100\n",
      "100/100 - 0s - loss: 0.0023\n",
      "Epoch 71/100\n",
      "100/100 - 0s - loss: 0.0022\n",
      "Epoch 72/100\n",
      "100/100 - 0s - loss: 0.0023\n",
      "Epoch 73/100\n",
      "100/100 - 0s - loss: 0.0024\n",
      "Epoch 74/100\n",
      "100/100 - 0s - loss: 0.0021\n",
      "Epoch 75/100\n",
      "100/100 - 0s - loss: 0.0023\n",
      "Epoch 76/100\n",
      "100/100 - 0s - loss: 0.0022\n",
      "Epoch 77/100\n",
      "100/100 - 0s - loss: 0.0023\n",
      "Epoch 78/100\n",
      "100/100 - 0s - loss: 0.0022\n",
      "Epoch 79/100\n",
      "100/100 - 0s - loss: 0.0022\n",
      "Epoch 80/100\n",
      "100/100 - 0s - loss: 0.0023\n",
      "Epoch 81/100\n",
      "100/100 - 0s - loss: 0.0020\n",
      "Epoch 82/100\n",
      "100/100 - 0s - loss: 0.0022\n",
      "Epoch 83/100\n",
      "100/100 - 0s - loss: 0.0022\n",
      "Epoch 84/100\n",
      "100/100 - 0s - loss: 0.0022\n",
      "Epoch 85/100\n",
      "100/100 - 0s - loss: 0.0023\n",
      "Epoch 86/100\n",
      "100/100 - 0s - loss: 0.0021\n",
      "Epoch 87/100\n",
      "100/100 - 0s - loss: 0.0023\n",
      "Epoch 88/100\n",
      "100/100 - 0s - loss: 0.0021\n",
      "Epoch 89/100\n",
      "100/100 - 0s - loss: 0.0022\n",
      "Epoch 90/100\n",
      "100/100 - 0s - loss: 0.0021\n",
      "Epoch 91/100\n",
      "100/100 - 0s - loss: 0.0021\n",
      "Epoch 92/100\n",
      "100/100 - 0s - loss: 0.0018\n",
      "Epoch 93/100\n",
      "100/100 - 0s - loss: 0.0027\n",
      "Epoch 94/100\n",
      "100/100 - 0s - loss: 0.0023\n",
      "Epoch 95/100\n",
      "100/100 - 0s - loss: 0.0022\n",
      "Epoch 96/100\n",
      "100/100 - 0s - loss: 0.0022\n",
      "Epoch 97/100\n",
      "100/100 - 0s - loss: 0.0022\n",
      "Epoch 98/100\n",
      "100/100 - 0s - loss: 0.0022\n",
      "Epoch 99/100\n",
      "100/100 - 0s - loss: 0.0020\n",
      "Epoch 100/100\n",
      "100/100 - 0s - loss: 0.0022\n"
     ]
    },
    {
     "data": {
      "text/plain": [
       "<keras.callbacks.History at 0x12388c96c88>"
      ]
     },
     "execution_count": 119,
     "metadata": {},
     "output_type": "execute_result"
    }
   ],
   "source": [
    "# fit the LSTM network\n",
    "model.fit(trainX, trainY, epochs=50, batch_size=1, verbose=2)"
   ]
  },
  {
   "cell_type": "code",
   "execution_count": 120,
   "id": "3d0d964a",
   "metadata": {},
   "outputs": [],
   "source": [
    "# make predictions\n",
    "\n",
    "trainPredict = model.predict(trainX)\n",
    "testPredict = model.predict(testX)"
   ]
  },
  {
   "cell_type": "code",
   "execution_count": 121,
   "id": "4a821e99",
   "metadata": {},
   "outputs": [
    {
     "data": {
      "text/plain": [
       "array([0.07912566], dtype=float32)"
      ]
     },
     "execution_count": 121,
     "metadata": {},
     "output_type": "execute_result"
    }
   ],
   "source": [
    "trainPredict[0]\n",
    "# we need to denormalize"
   ]
  },
  {
   "cell_type": "markdown",
   "id": "1b16d67f",
   "metadata": {},
   "source": [
    "###### invert predictions back to prescaled values using `scaler.inverse_transform()`"
   ]
  },
  {
   "cell_type": "code",
   "execution_count": 122,
   "id": "593df239",
   "metadata": {},
   "outputs": [
    {
     "name": "stdout",
     "output_type": "stream",
     "text": [
      "Train Score: 23.21 RMSE\n",
      "Test Score: 50.94 RMSE\n"
     ]
    }
   ],
   "source": [
    "#This is to compare with original input values\n",
    "#SInce we used minmaxscaler we can now use scaler.inverse_transform\n",
    "#to invert the transformation.\n",
    "trainPredict = scaler.inverse_transform(trainPredict)\n",
    "trainYY = scaler.inverse_transform([trainY])\n",
    "testPredict = scaler.inverse_transform(testPredict)\n",
    "testYY = scaler.inverse_transform([testY])\n",
    "\n",
    "# calculate root mean squared error\n",
    "trainScore = math.sqrt(mean_squared_error(trainYY[0], trainPredict[:,0]))\n",
    "print('Train Score: %.2f RMSE' % (trainScore))\n",
    "\n",
    "testScore = math.sqrt(mean_squared_error(testYY[0], testPredict[:,0]))\n",
    "print('Test Score: %.2f RMSE' % (testScore))"
   ]
  },
  {
   "cell_type": "code",
   "execution_count": 123,
   "id": "9c24ce8d",
   "metadata": {},
   "outputs": [
    {
     "data": {
      "image/png": "[encoded data removed]",
      "text/plain": [
       "<Figure size 864x576 with 1 Axes>"
      ]
     },
     "metadata": {
      "needs_background": "light"
     },
     "output_type": "display_data"
    }
   ],
   "source": [
    "# shift train predictions for plotting\n",
    "trainPredictPlot = np.empty_like(dataset)\n",
    "trainPredictPlot[:, :] = np.nan\n",
    "trainPredictPlot[look_back:len(trainPredict)+look_back, :] = trainPredict\n",
    "# shift test predictions for plotting\n",
    "testPredictPlot = np.empty_like(dataset)\n",
    "testPredictPlot[:, :] = np.nan\n",
    "testPredictPlot[len(trainPredict)+(look_back*2)+1:len(dataset)-1, :] = testPredict\n",
    "\n",
    "# plot baseline and predictions\n",
    "plt.figure(figsize=(12,8))\n",
    "plt.plot(scaler.inverse_transform(dataset),label=\"Original\")\n",
    "plt.plot(trainPredictPlot,label=\"Train Predicted\")\n",
    "plt.plot(testPredictPlot,label=\"Test Predicted\")\n",
    "plt.legend()\n",
    "plt.show()\n"
   ]
  },
  {
   "cell_type": "code",
   "execution_count": null,
   "id": "114023d7",
   "metadata": {},
   "outputs": [],
   "source": []
  }
 ],
 "metadata": {
  "kernelspec": {
   "display_name": "Python 3 (ipykernel)",
   "language": "python",
   "name": "python3"
  },
  "language_info": {
   "codemirror_mode": {
    "name": "ipython",
    "version": 3
   },
   "file_extension": ".py",
   "mimetype": "text/x-python",
   "name": "python",
   "nbconvert_exporter": "python",
   "pygments_lexer": "ipython3",
   "version": "3.11.3"
  }
 },
 "nbformat": 4,
 "nbformat_minor": 5
}
